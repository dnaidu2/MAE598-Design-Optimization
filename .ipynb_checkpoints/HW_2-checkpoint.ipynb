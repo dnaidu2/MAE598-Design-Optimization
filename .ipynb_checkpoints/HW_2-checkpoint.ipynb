{
 "cells": [
  {
   "cell_type": "markdown",
   "id": "2b604302",
   "metadata": {},
   "source": [
    "# Problem 1\n",
    "#Problem Statement : Show that the stationary point (zero gradient) of the function \n",
    "$f = 2x_{1}^2 - 4x_{1}x_{2}+1.5x_{2}^2+x_{2}$\n",
    "is a saddle (with indefinite Hessian).\n",
    "- Find the directions of downslope away from the saddle.Find directions that reduce f.\n",
    "## Solution\n",
    "\n",
    "Given function <br>\n",
    "$f = 2x_{1}^2 - 4x_{1}x_{2}+1.5x_{2}^2+x_{2}$ <br>\n",
    "<br>\n",
    "#Gradient\n",
    "<br>\n",
    "$\\mathbf{g} = \\begin{bmatrix}\\frac{\\partial f}{\\partial x_{1}} \\\\ \\frac{\\partial f}{\\partial x_{2}}\\end{bmatrix}\n",
    "= \\begin{bmatrix}4x_{1}-4x{2}\\\\-4x_{1}+3x_{2}+1\\end{bmatrix}$\n",
    "<br>\n",
    "#Zero gradient \n",
    "<br>\n",
    "$\\mathbf{g_{0}} = \\begin{bmatrix}0\\\\0\\end{bmatrix}$ <br>\n",
    "Function f has Stationary point/zero gradient at (1,1) <br>\n",
    "$\\mathbf{g} = \\begin{bmatrix}1\\\\1\\end{bmatrix}$ <br>\n",
    "To show that stationary point (1,1) is saddle point, we need to calculate hessian of the function. <br>\n",
    "#Hessian \n",
    "<br>\n",
    "$\\mathbf{H}=\n",
    "\\begin{bmatrix}\n",
    "\\frac{\\partial^2 f}{\\partial x_{1}^2} & \\frac{\\partial^2 f}{\\partial x_{1}x_{2}}\\\\\n",
    "\\frac{\\partial^2f}{\\partial x_{1}x_{2}} & \\frac{\\partial^f}{\\partial x_{2}^2}\n",
    "\\end{bmatrix}\n",
    "=\\begin{bmatrix} 4 & -4\\\\ -4 & 3 \\end{bmatrix}\n",
    "$\n",
    "### To show that stationary point of the function f is saddle point \n",
    "<br>\n",
    "Calculating eigen values <br>\n",
    "Let determinent of H be D <br>\n",
    "$ D = 4*3-4*4 = -4 $ <br>\n",
    "We know that Determinent of matrix is product of eigen values <br>\n",
    "Since the product of eigen values is negative, that shows that one eigen value is positive and another is negative. So, the hessian is indefinite and as well as function is indefinite. <br>\n",
    "So, the stationary point (1,1) is saddle point. Because the curve of the function is in the shape of a saddle. <br>\n",
    "$f(x_{0}) = 2(1)-4(1)(1)+1.5(1)+(1)^2 = 2-4+1.5+1 = 0.5$\n",
    "<br>\n",
    "#### Direction of Downslope that reduces f \n",
    "<br>\n",
    "Using Taylor's expansion <br>\n",
    "$f(x_{1},x_{2}) = f(x_{0})+ g_{0} \\begin{bmatrix} x_{1}-1 & x_{2}-1 \\end{bmatrix} + 0.5 \\begin{bmatrix} x_{1}-1 & x_{2}-1 \\end{bmatrix} \\begin{bmatrix}  4 & -4\\\\ -4 & 3 \\end{bmatrix} \\begin{bmatrix} x_{1}-1 \\\\ x_{2}-1 \\end{bmatrix}$\n",
    "<br>\n",
    "$f(x_{1},x_{2}) - f(x_{0}) = 0.5 \\begin{bmatrix} x_{1}-1 & x_{2}-1 \\end{bmatrix} \\begin{bmatrix}  4 & -4\\\\ -4 & 3 \\end{bmatrix} \\begin{bmatrix} x_{1}-1 \\\\ x_{2}-1 \\end{bmatrix}$\n",
    "<br>\n",
    "(Since gradient is zero) <br>\n",
    "$0.5 \\begin{bmatrix} x_{1}-1 & x_{2}-1 \\end{bmatrix} \\begin{bmatrix}  4 & -4\\\\ -4 & 3 \\end{bmatrix} \\begin{bmatrix} x_{1}-1 \\\\ x_{2}-1 \\end{bmatrix} \n",
    "= 0.5 \\begin{bmatrix} 4x_{1}- 4x_{2} & -4x_{1}+ 3x_{2}+1 \\end{bmatrix} \\begin{bmatrix} x_{1}-1 \\\\ x_{2}-1 \\end{bmatrix} \n",
    "= 0.5 [(4x_{1}- 4x_{2})(x_{1}-1)+ (-4x_{1}+ 3x_{2}+1) (x_{2}-1)]\n",
    "= 0.5 [(2x_{1}-x_{2})(2x_{1}-3x_{2})]$ <br>\n",
    "Downslope reduces f, when $f(x_{1},x_{2}) - f(x_{0}) < 0$ <br>\n",
    "$\\Longrightarrow 0.5 [(2x_{1}-x_{2})(2x_{1}-3x_{2})] < 0$ <br>\n",
    "$\\Longrightarrow (2x_{1}-x_{2})(2x_{1}-3x_{2}) < 0$ \n",
    "<br>\n",
    "The only values that satisfies this condition are <br>\n",
    "$(2x_{1}-x_{2}) < 0 $ and $(2x_{1}-3x_{2}) > 0$\n",
    "<br>\n",
    "OR $(2x_{1}-x_{2}) > 0$ and $(2x_{1}-3x_{2}) < 0$\n",
    "\n"
   ]
  },
  {
   "cell_type": "markdown",
   "id": "eb6fafd4",
   "metadata": {},
   "source": [
    "# Problem 2\n",
    "## a) Find the nearest point in the plane and check if the given problem is convex.\n",
    "<br>\n",
    "<img src = \"MAE 598_HW2-P2a-page1.jpg\" alt = \"MAE 598_HW2-P2a-page-001\" title = \"Nearest point page 1\" />\n",
    "<br>\n",
    "<img src = \"MAE 598_HW2_P2a.jpg\" alt = \"MAE 598_HW2-P2a-page-002\" title = \"Nearest point page 2\" />"
   ]
  },
  {
   "cell_type": "code",
   "execution_count": 22,
   "id": "0ac636a0",
   "metadata": {},
   "outputs": [
    {
     "name": "stdout",
     "output_type": "stream",
     "text": [
      "Equation 1:\n",
      "Eq(10*y + 12*z, 8)\n",
      "Equation 2\n",
      "Eq(12*y + 20*z, 14)\n",
      "Equation 3\n",
      "Eq(x + 2*y + 3*z, 1)\n",
      "The point in the plane nearest to (-1,0,1)^T is:\n",
      "{x: -15/14, y: -1/7, z: 11/14}\n"
     ]
    }
   ],
   "source": [
    "from sympy import symbols, Eq, solve\n",
    "\n",
    "x,y, z = symbols('x,y,z')\n",
    "eq1 = Eq((10*y+12*z), 8)\n",
    "print(\"Equation 1:\")\n",
    "print(eq1)\n",
    "eq2 = Eq((12*y+20*z), 14)\n",
    "print(\"Equation 2\")\n",
    "print(eq2)\n",
    "eq3 = Eq((x+2*y+3*z), 1)\n",
    "print(\"Equation 3\")\n",
    "print(eq3)\n",
    "print(\"The point in the plane nearest to (-1,0,1)^T is:\")\n",
    "  \n",
    "print(solve((eq1, eq2,eq3), (x, y, z)))"
   ]
  },
  {
   "cell_type": "markdown",
   "id": "701b214a",
   "metadata": {},
   "source": [
    "#Gradient\n",
    "<br>\n",
    "$\\mathbf{g} = \\begin{bmatrix}\\frac{\\partial f}{\\partial y} \\\\ \\frac{\\partial f}{\\partial z}\\end{bmatrix}\n",
    "= \\begin{bmatrix}10y+12z-8 \\\\ 12y+20z-14 \\end{bmatrix}$\n",
    "<br>\n",
    "#Hessian \n",
    "<br>\n",
    "$\\mathbf{H}=\n",
    "\\begin{bmatrix}\n",
    "\\frac{\\partial^2 f}{\\partial y^2} & \\frac{\\partial^2 f}{\\partial yz}\\\\\n",
    "\\frac{\\partial f}{\\partial yz} & \\frac{\\partial f}{\\partial z^2}\n",
    "\\end{bmatrix}\n",
    "=\\begin{bmatrix} 10 & 12 \\\\ 12 & 20 \\end{bmatrix}$\n",
    "<br>\n",
    "Hessian is positive definite everywhere. Therefore, the given problem is __CONVEX__\n"
   ]
  },
  {
   "cell_type": "markdown",
   "id": "9b48d0da",
   "metadata": {},
   "source": [
    "## b) Gradient descent and Newton's algorithm\n",
    "### Gradient descent algorithm"
   ]
  },
  {
   "cell_type": "code",
   "execution_count": 43,
   "id": "e8713eb5",
   "metadata": {},
   "outputs": [
    {
     "ename": "TypeError",
     "evalue": "float() argument must be a string or a number, not 'function'",
     "output_type": "error",
     "traceback": [
      "\u001b[1;31m---------------------------------------------------------------------------\u001b[0m",
      "\u001b[1;31mTypeError\u001b[0m                                 Traceback (most recent call last)",
      "\u001b[1;32m<ipython-input-43-65f730a6f38d>\u001b[0m in \u001b[0;36m<module>\u001b[1;34m\u001b[0m\n\u001b[0;32m      5\u001b[0m \u001b[0mobj\u001b[0m \u001b[1;33m=\u001b[0m \u001b[1;32mlambda\u001b[0m \u001b[0mx\u001b[0m\u001b[1;33m:\u001b[0m \u001b[1;36m5\u001b[0m \u001b[1;33m*\u001b[0m \u001b[0mx\u001b[0m\u001b[1;33m[\u001b[0m\u001b[1;36m0\u001b[0m\u001b[1;33m]\u001b[0m\u001b[1;33m**\u001b[0m\u001b[1;36m2\u001b[0m \u001b[1;33m+\u001b[0m \u001b[1;36m10\u001b[0m \u001b[1;33m*\u001b[0m \u001b[0mx\u001b[0m\u001b[1;33m[\u001b[0m\u001b[1;36m1\u001b[0m\u001b[1;33m]\u001b[0m\u001b[1;33m**\u001b[0m\u001b[1;36m2\u001b[0m \u001b[1;33m+\u001b[0m \u001b[1;36m5\u001b[0m \u001b[1;33m+\u001b[0m \u001b[1;36m12\u001b[0m \u001b[1;33m*\u001b[0m \u001b[0mx\u001b[0m\u001b[1;33m[\u001b[0m\u001b[1;36m0\u001b[0m\u001b[1;33m]\u001b[0m \u001b[1;33m*\u001b[0m \u001b[0mx\u001b[0m\u001b[1;33m[\u001b[0m\u001b[1;36m1\u001b[0m\u001b[1;33m]\u001b[0m \u001b[1;33m-\u001b[0m \u001b[1;36m14\u001b[0m \u001b[1;33m*\u001b[0m \u001b[0mx\u001b[0m\u001b[1;33m[\u001b[0m\u001b[1;36m1\u001b[0m\u001b[1;33m]\u001b[0m \u001b[1;33m-\u001b[0m \u001b[1;36m8\u001b[0m \u001b[1;33m*\u001b[0m \u001b[0mx\u001b[0m\u001b[1;33m[\u001b[0m\u001b[1;36m0\u001b[0m\u001b[1;33m]\u001b[0m\u001b[1;33m\u001b[0m\u001b[1;33m\u001b[0m\u001b[0m\n\u001b[0;32m      6\u001b[0m \u001b[0mgrad\u001b[0m \u001b[1;33m=\u001b[0m \u001b[1;32mlambda\u001b[0m \u001b[0mx\u001b[0m\u001b[1;33m:\u001b[0m \u001b[0mnp\u001b[0m\u001b[1;33m.\u001b[0m\u001b[0marray\u001b[0m\u001b[1;33m(\u001b[0m\u001b[1;33m[\u001b[0m\u001b[1;36m10\u001b[0m \u001b[1;33m*\u001b[0m \u001b[0mx\u001b[0m\u001b[1;33m[\u001b[0m\u001b[1;36m0\u001b[0m\u001b[1;33m]\u001b[0m \u001b[1;33m+\u001b[0m \u001b[1;36m12\u001b[0m \u001b[1;33m*\u001b[0m \u001b[0mx\u001b[0m\u001b[1;33m[\u001b[0m\u001b[1;36m1\u001b[0m\u001b[1;33m]\u001b[0m \u001b[1;33m-\u001b[0m \u001b[1;36m8\u001b[0m\u001b[1;33m,\u001b[0m \u001b[1;36m12\u001b[0m \u001b[1;33m*\u001b[0m \u001b[0mx\u001b[0m\u001b[1;33m[\u001b[0m\u001b[1;36m0\u001b[0m\u001b[1;33m]\u001b[0m \u001b[1;33m+\u001b[0m \u001b[1;36m20\u001b[0m \u001b[1;33m*\u001b[0m \u001b[0mx\u001b[0m\u001b[1;33m[\u001b[0m\u001b[1;36m1\u001b[0m\u001b[1;33m]\u001b[0m \u001b[1;33m-\u001b[0m \u001b[1;36m14\u001b[0m\u001b[1;33m]\u001b[0m\u001b[1;33m)\u001b[0m\u001b[1;33m\u001b[0m\u001b[1;33m\u001b[0m\u001b[0m\n\u001b[1;32m----> 7\u001b[1;33m \u001b[0msol\u001b[0m\u001b[1;33m.\u001b[0m\u001b[0mappend\u001b[0m\u001b[1;33m(\u001b[0m\u001b[0mfloat\u001b[0m\u001b[1;33m(\u001b[0m\u001b[0mgrad\u001b[0m\u001b[1;33m)\u001b[0m\u001b[1;33m)\u001b[0m\u001b[1;33m\u001b[0m\u001b[1;33m\u001b[0m\u001b[0m\n\u001b[0m\u001b[0;32m      8\u001b[0m \u001b[1;31m# termination criterion\u001b[0m\u001b[1;33m\u001b[0m\u001b[1;33m\u001b[0m\u001b[1;33m\u001b[0m\u001b[0m\n\u001b[0;32m      9\u001b[0m \u001b[0meps\u001b[0m \u001b[1;33m=\u001b[0m \u001b[1;36m.0001\u001b[0m\u001b[1;33m\u001b[0m\u001b[1;33m\u001b[0m\u001b[0m\n",
      "\u001b[1;31mTypeError\u001b[0m: float() argument must be a string or a number, not 'function'"
     ]
    }
   ],
   "source": [
    "import numpy as np\n",
    "import matplotlib.pyplot as plt\n",
    "x = np.array([1,1])\n",
    "sol=[]\n",
    "obj = lambda x: 5 * x[0]**2 + 10 * x[1]**2 + 5 + 12 * x[0] * x[1] - 14 * x[1] - 8 * x[0]\n",
    "grad = lambda x: np.array([10 * x[0] + 12 * x[1] - 8, 12 * x[0] + 20 * x[1] - 14])\n",
    "sol.append(float(grad))\n",
    "# termination criterion\n",
    "eps = .0001\n",
    "#x0 = np.array([0,0])  # initial guess\n",
    "#k = 0  # counter\n",
    "#soln = np.array([0,0])  # use an array to store the search steps\n",
    "#x = np.array(soln[k])  \n",
    "x0 = 0.  # initial guess\n",
    "k = 0  # counter\n",
    "soln = [x0]  # use an array to store the search steps\n",
    "x = soln[k] # start with the initial guess\n",
    "error = np.linalg.norm(grad(x))  # compute the error. Note you will need to compute the norm for 2D grads, rather than the absolute value\n",
    "# a = 0.01  # set a fixed step size to start with\n",
    "sol.append(float(error))\n",
    "\n",
    "# Armijo line search\n",
    "\n",
    "\n",
    "def line_search(x):\n",
    "    a = 1.  # initialize step size\n",
    "    phi = lambda a, x: obj(x) - a * 0.8 * grad(x) ** 2  # define phi as a search criterion\n",
    "    while phi(a, x) < obj(x - a * grad(x)):  # if f(x+a*d)>phi(a) then backtrack. d is the search direction\n",
    "        a = 0.5 * a\n",
    "    return a\n",
    "\n",
    "\n",
    "while error >= conv:  # keep searching while gradient norm is larger than eps\n",
    "    a = line_search(x)\n",
    "    x = x - a * grad(x)\n",
    "    soln.append(x)\n",
    "    error = np.linalg.norm(grad(x))\n",
    "\n",
    "soln  # print the search trajectory"
   ]
  },
  {
   "cell_type": "markdown",
   "id": "8d38f1cc",
   "metadata": {},
   "source": [
    "# Problem 3\n",
    "## a) Prove that given function is convex.\n",
    "<br>\n",
    "<img src = \"HW2 P3a.jpg\" alt = \"HW2 P3a\" title = \"Function is Convex\" />"
   ]
  },
  {
   "cell_type": "markdown",
   "id": "135c39ad",
   "metadata": {},
   "source": [
    "## b) Conditions for given function to be convex.\n",
    "<img src = \"HW2 P3b.jpg\" alt = \"HW2 P3b\" title = \"Conditions for convexity\" />"
   ]
  },
  {
   "cell_type": "markdown",
   "id": "0900b997",
   "metadata": {},
   "source": [
    "# Problem 4\n",
    "<img src = \"HW2 P4.jpg\" alt = \"HW2 P4\" title = \"Convex function\" />"
   ]
  }
 ],
 "metadata": {
  "kernelspec": {
   "display_name": "Python 3",
   "language": "python",
   "name": "python3"
  },
  "language_info": {
   "codemirror_mode": {
    "name": "ipython",
    "version": 3
   },
   "file_extension": ".py",
   "mimetype": "text/x-python",
   "name": "python",
   "nbconvert_exporter": "python",
   "pygments_lexer": "ipython3",
   "version": "3.8.8"
  }
 },
 "nbformat": 4,
 "nbformat_minor": 5
}
