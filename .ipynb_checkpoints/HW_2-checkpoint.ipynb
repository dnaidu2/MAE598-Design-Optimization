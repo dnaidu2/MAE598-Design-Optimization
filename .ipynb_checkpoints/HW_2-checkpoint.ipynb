{
 "cells": [
  {
   "cell_type": "markdown",
   "id": "ef34d26f",
   "metadata": {},
   "source": [
    "# Problem 1\n",
    "#Problem Statement : Show that the stationary point (zero gradient) of the function \n",
    "$f = 2x_{1}^2 - 4x_{1}x_{2}+1.5x_{2}^2+x_{2}$\n",
    "is a saddle (with indefinite Hessian).\n",
    "- Find the directions of downslope away from the saddle.Find directions that reduce f.\n",
    "## Solution\n",
    "\n",
    "Given function <br>\n",
    "$f = 2x_{1}^2 - 4x_{1}x_{2}+1.5x_{2}^2+x_{2}$ <br>\n",
    "<br>\n",
    "#Gradient, g \n",
    "<br>\n",
    "$$\\mathbf{g}=\n",
    "\\begin{bmatrix}\\frac{\\partial f}{\\partial x_{1}} \\\\ \\frac{\\partial f}{\\partial x_{2}}\\end{bmatrix}\n",
    "=\n",
    "\\begin{bmatrix}4x_{1}-4x{2}\\\\-4x_{1}+3x_{2}+1\\end{bmatrix}$$\n",
    "<br>\n",
    "#Zero gradient \n",
    "<br>\n",
    "$\\mathbf{g_{0}} = \\begin{bmatrix}0\\\\0\\end{bmatrix}$ <br>\n",
    "Function f has Stationary point/zero gradient at (1,1) <br>\n",
    "$\\mathbf{g} = \\begin{bmatrix}1\\\\1\\end{bmatrix}$ <br>\n",
    "To show that stationary point (1,1) is saddle point, we need to calculate hessian of the function. <br>\n",
    "#Hessian \n",
    "<br>\n",
    "$\\mathbf{H}=\n",
    "\\begin{bmatrix}\n",
    "\\frac{\\partial^2 f}{\\partial x_{1}} & \\frac{\\partial^2 f}{\\partial x_{1}x_{2}}\\\\\n",
    "\\frac{\\partial f}{\\partial x_{1}x_{2}} & \\frac{\\partial f}{\\partial x_{2}}\n",
    "\\end{bmatrix}\n",
    "=\\begin{bmatrix} 4 & -4\\\\ -4 & 3 \\end{bmatrix}\n",
    "$\n",
    "### To show that stationary point of the function f is saddle point \n",
    "<br>\n",
    "Calculating eigen values <br>\n",
    "Let determinent of H be D <br>\n",
    "$ D = 4*3-4*4 = -4 $\n",
    "We know that Determinent of matrix is product of eigen values <br>\n",
    "Since the product of eigen values is negative, that shows that one eigen value is positive and another is negative. So, the hessian is indefinite and as well as function is indefinite. <br>\n",
    "So, the stationary point (1,1) is saddle point. Because the curve of the function is in the shape of a saddle. <br>\n",
    "$f(x_{0}) = 2(1)-4(1)(1)+1.5(1)+(1)^2 = 2-4+1.5+1 = 0.5$\n",
    "<br>\n",
    "#### Direction of Downslope that reduces f \n",
    "<br>\n",
    "Using Taylor's expansion <br>\n",
    "$f(x_{1},x_{2}) = f(x_{0})+ g_{0} \\begin{bmatrix} x_{1}-1 & x_{2}-1 \\end{bmatrix} + 0.5 \\begin{bmatrix} x_{1}-1 & x_{2}-1 \\end{bmatrix} \\begin{bmatrix}  4 & -4\\\\ -4 & 3 \\end{bmatrix} \\begin{bmatrix} x_{1}-1 \\\\ x_{2}-1 \\end{bmatrix}$\n",
    "<br>\n",
    "$f(x_{1},x_{2}) - f(x_{0}) = 0.5 \\begin{bmatrix} x_{1}-1 & x_{2}-1 \\end{bmatrix} \\begin{bmatrix}  4 & -4\\\\ -4 & 3 \\end{bmatrix} \\begin{bmatrix} x_{1}-1 \\\\ x_{2}-1 \\end{bmatrix}$\n",
    "<br>\n",
    "(Since gradient is zero) <br>\n",
    "$0.5 \\begin{bmatrix} x_{1}-1 & x_{2}-1 \\end{bmatrix} \\begin{bmatrix}  4 & -4\\\\ -4 & 3 \\end{bmatrix} \\begin{bmatrix} x_{1}-1 \\\\ x_{2}-1 \\end{bmatrix} \n",
    "= 0.5 \\begin{bmatrix} 4x_{1}- 4x_{2} & -4x_{1}+ 3x_{2}+1 \\end{bmatrix} \\begin{bmatrix} x_{1}-1 \\\\ x_{2}-1 \\end{bmatrix} \n",
    "= 0.5 [(4x_{1}- 4x_{2})(x_{1}-1)+ (-4x_{1}+ 3x_{2}+1) (x_{2}-1)]\n",
    "= 0.5 [(2x_{1}-x_{2})(2x_{1}-3x_{2})]$ <br>\n",
    "Downslope reduces f, when $f(x_{1},x_{2}) - f(x_{0}) < 0$ <br>\n",
    "$\\Longrightarrow 0.5 [(2x_{1}-x_{2})(2x_{1}-3x_{2})] < 0$ <br>\n",
    "$\\Longrightarrow (2x_{1}-x_{2})(2x_{1}-3x_{2}) < 0$ \n",
    "<br>\n",
    "The only values that satisfies this condition are <br>\n",
    "$(2x_{1}-x_{2}) < 0 $ and $(2x_{1}-3x_{2}) > 0$\n",
    "<br>\n",
    "OR $(2x_{1}-x_{2}) > 0$ and $(2x_{1}-3x_{2}) < 0$\n",
    "\n"
   ]
  },
  {
   "cell_type": "markdown",
   "id": "a40e370b",
   "metadata": {},
   "source": [
    "# Problem 2\n",
    "#Problem Statement: Find the point in plane $ x_{1}+2x_{2}+3x_{3} = 1 $ that is nearest to the point (-1,0,1)\n",
    "\n",
    "## Solution\n"
   ]
  }
 ],
 "metadata": {
  "kernelspec": {
   "display_name": "Python 3",
   "language": "python",
   "name": "python3"
  },
  "language_info": {
   "codemirror_mode": {
    "name": "ipython",
    "version": 3
   },
   "file_extension": ".py",
   "mimetype": "text/x-python",
   "name": "python",
   "nbconvert_exporter": "python",
   "pygments_lexer": "ipython3",
   "version": "3.8.8"
  }
 },
 "nbformat": 4,
 "nbformat_minor": 5
}
