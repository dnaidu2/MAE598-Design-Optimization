{
 "cells": [
  {
   "cell_type": "markdown",
   "id": "e0ed5474",
   "metadata": {},
   "source": [
    "# HW_1_Python SciPy.Optimize"
   ]
  },
  {
   "cell_type": "markdown",
   "id": "b4d8fd47",
   "metadata": {},
   "source": [
    "#Problem Statement: Solve the problem using Python SciPy.optimize\n",
    "<br>\n",
    "#Minimize: (x1-x2)^2+(x2+x3-2)^2+(x4-1)^2+(x5-1)^2\n",
    "<br>\n",
    "#Subject to:<br>\n",
    "             x1+3x2 = 0 <br>\n",
    "             x3+x4-2x5 = 0 <br>\n",
    "             x2-x5 = 0 <br>\n",
    "#Boundary Conditions : <br>\n",
    "-10<= xi <= 10, i = 1,2,3,4,5 <br>\n",
    "#Initial guesses of the solution <br>\n",
    "[-1,-1,-1,-1,-1],[-10,-9,-8,-7,-6],[10,9,8,7,6],[10,10,10,10,10],[-10,-10,-10,-10,-10],[0,0,0,0,0]"
   ]
  },
  {
   "cell_type": "markdown",
   "id": "5e70899f",
   "metadata": {},
   "source": [
    "# Code"
   ]
  },
  {
   "cell_type": "code",
   "execution_count": 116,
   "id": "cd227460",
   "metadata": {
    "scrolled": true
   },
   "outputs": [
    {
     "name": "stdout",
     "output_type": "stream",
     "text": [
      "     fun: 1.48837209398987\n",
      "     jac: array([-0.18599299, -0.74426265, -0.93025567,  0.93024957, -2.04649824])\n",
      " message: 'Optimization terminated successfully'\n",
      "    nfev: 37\n",
      "     nit: 6\n",
      "    njev: 6\n",
      "  status: 0\n",
      " success: True\n",
      "       x: array([-0.06974738,  0.02324913,  1.51162303,  1.46512478, -0.02324913])\n"
     ]
    }
   ],
   "source": [
    "# First Iteration with initial conditions [-1,-1,-1,-1,-1]\n",
    "from scipy.optimize import minimize\n",
    "\n",
    "# Function\n",
    "fun = lambda x: (x[0] - x[1])**2 + (x[1] + x[2]-2)**2+(x[3]-1)**2+(x[4]-1)**2\n",
    "\n",
    "# Constraints\n",
    "cons = ({'type': 'eq', 'fun': lambda x:  x[0] + 3 * x[1]},\n",
    "        {'type': 'eq', 'fun': lambda x: -x[2]+x[3] - 2 * x[4]},\n",
    "        {'type': 'eq', 'fun': lambda x: -x[1]-x[4]})\n",
    "\n",
    "# Boundary Conditions\n",
    "bnds = ((-10,10),(-10,10),(-10,10),(-10,10),(-10,10))\n",
    "\n",
    "# Execution\n",
    "res = minimize(fun, (-1,-1,-1,-1,-1), method='SLSQP', bounds=bnds,constraints=cons)\n",
    "\n",
    "# Output\n",
    "res\n",
    "print(res)"
   ]
  },
  {
   "cell_type": "code",
   "execution_count": 117,
   "id": "ed3178c8",
   "metadata": {
    "scrolled": true
   },
   "outputs": [
    {
     "name": "stdout",
     "output_type": "stream",
     "text": [
      "     fun: 1.4883720958972313\n",
      "     jac: array([-0.18604772, -0.74410853, -0.93015628,  0.93030792, -2.04651192])\n",
      " message: 'Optimization terminated successfully'\n",
      "    nfev: 48\n",
      "     nit: 8\n",
      "    njev: 8\n",
      "  status: 0\n",
      " success: True\n",
      "       x: array([-0.0697679 ,  0.02325597,  1.51166589,  1.46515395, -0.02325597])\n"
     ]
    }
   ],
   "source": [
    "## Second Iteration with initial conditions [-10,-9,-8,-7,-6]\n",
    "from scipy.optimize import minimize\n",
    "\n",
    "# Function\n",
    "fun = lambda x: (x[0] - x[1])**2 + (x[1] + x[2]-2)**2+(x[3]-1)**2+(x[4]-1)**2\n",
    "\n",
    "# Constraints\n",
    "cons = ({'type': 'eq', 'fun': lambda x:  x[0] + 3 * x[1]},\n",
    "        {'type': 'eq', 'fun': lambda x: -x[2]+x[3] - 2 * x[4]},\n",
    "        {'type': 'eq', 'fun': lambda x: -x[1]-x[4]})\n",
    "\n",
    "# Boundary Conditions\n",
    "bnds = ((-10,10),(-10,10),(-10,10),(-10,10),(-10,10))\n",
    "\n",
    "# Execution\n",
    "res = minimize(fun, (-10,-9,-8,-7,-6), method='SLSQP', bounds=bnds,constraints=cons)\n",
    "\n",
    "# Output\n",
    "res\n",
    "print(res)"
   ]
  },
  {
   "cell_type": "code",
   "execution_count": 118,
   "id": "b2faad7f",
   "metadata": {},
   "outputs": [
    {
     "name": "stdout",
     "output_type": "stream",
     "text": [
      "     fun: 1.4883720930250495\n",
      "     jac: array([-0.1860449 , -0.74418685, -0.93023178,  0.93023454, -2.04651122])\n",
      " message: 'Optimization terminated successfully'\n",
      "    nfev: 37\n",
      "     nit: 6\n",
      "    njev: 6\n",
      "  status: 0\n",
      " success: True\n",
      "       x: array([-0.06976684,  0.02325561,  1.51162849,  1.46511726, -0.02325561])\n"
     ]
    }
   ],
   "source": [
    "## Third Iteration with initial conditions [10,9,8,7,6]\n",
    "from scipy.optimize import minimize\n",
    "\n",
    "# Function\n",
    "fun = lambda x: (x[0] - x[1])**2 + (x[1] + x[2]-2)**2+(x[3]-1)**2+(x[4]-1)**2\n",
    "\n",
    "# Constraints\n",
    "cons = ({'type': 'eq', 'fun': lambda x:  x[0] + 3 * x[1]},\n",
    "        {'type': 'eq', 'fun': lambda x: -x[2]+x[3] - 2 * x[4]},\n",
    "        {'type': 'eq', 'fun': lambda x: -x[1]-x[4]})\n",
    "\n",
    "# Boundary Conditions\n",
    "bnds = ((-10,10),(-10,10),(-10,10),(-10,10),(-10,10))\n",
    "\n",
    "# Execution\n",
    "res = minimize(fun, (10,9,8,7,6), method='SLSQP', bounds=bnds,constraints=cons)\n",
    "\n",
    "# Output\n",
    "res\n",
    "print(res)"
   ]
  },
  {
   "cell_type": "code",
   "execution_count": 119,
   "id": "ba2d58d4",
   "metadata": {},
   "outputs": [
    {
     "name": "stdout",
     "output_type": "stream",
     "text": [
      "     fun: 1.4883720940959808\n",
      "     jac: array([-0.18605462, -0.74422067, -0.93027532,  0.93018369, -2.04651365])\n",
      " message: 'Optimization terminated successfully'\n",
      "    nfev: 48\n",
      "     nit: 8\n",
      "    njev: 8\n",
      "  status: 0\n",
      " success: True\n",
      "       x: array([-0.06977049,  0.02325683,  1.5116055 ,  1.46509184, -0.02325683])\n"
     ]
    }
   ],
   "source": [
    "## Fourth Iteration with initial conditions [10,10,10,10,10]\n",
    "from scipy.optimize import minimize\n",
    "\n",
    "# Function\n",
    "fun = lambda x: (x[0] - x[1])**2 + (x[1] + x[2]-2)**2+(x[3]-1)**2+(x[4]-1)**2\n",
    "\n",
    "# Constraints\n",
    "cons = ({'type': 'eq', 'fun': lambda x:  x[0] + 3 * x[1]},\n",
    "        {'type': 'eq', 'fun': lambda x: -x[2]+x[3] - 2 * x[4]},\n",
    "        {'type': 'eq', 'fun': lambda x: -x[1]-x[4]})\n",
    "\n",
    "# Boundary Conditions\n",
    "bnds = ((-10,10),(-10,10),(-10,10),(-10,10),(-10,10))\n",
    "\n",
    "# Execution\n",
    "res = minimize(fun, (10,10,10,10,10), method='SLSQP', bounds=bnds,constraints=cons)\n",
    "\n",
    "# Output\n",
    "res\n",
    "print(res)"
   ]
  },
  {
   "cell_type": "code",
   "execution_count": 120,
   "id": "dc6fc3f5",
   "metadata": {},
   "outputs": [
    {
     "name": "stdout",
     "output_type": "stream",
     "text": [
      "     fun: 1.488372098254787\n",
      "     jac: array([-0.18605068, -0.74407804, -0.93012875,  0.93033323, -2.04651266])\n",
      " message: 'Optimization terminated successfully'\n",
      "    nfev: 48\n",
      "     nit: 8\n",
      "    njev: 8\n",
      "  status: 0\n",
      " success: True\n",
      "       x: array([-0.06976901,  0.02325634,  1.51167928,  1.46516661, -0.02325634])\n"
     ]
    }
   ],
   "source": [
    "## Fifth Iteration with initial conditions [-10,-10,-10,-10,-10]\n",
    "from scipy.optimize import minimize\n",
    "\n",
    "# Function\n",
    "fun = lambda x: (x[0] - x[1])**2 + (x[1] + x[2]-2)**2+(x[3]-1)**2+(x[4]-1)**2\n",
    "\n",
    "# Constraints\n",
    "cons = ({'type': 'eq', 'fun': lambda x:  x[0] + 3 * x[1]},\n",
    "        {'type': 'eq', 'fun': lambda x: -x[2]+x[3] - 2 * x[4]},\n",
    "        {'type': 'eq', 'fun': lambda x: -x[1]-x[4]})\n",
    "\n",
    "# Boundary Conditions\n",
    "bnds = ((-10,10),(-10,10),(-10,10),(-10,10),(-10,10))\n",
    "\n",
    "# Execution\n",
    "res = minimize(fun, (-10,-10,-10,-10,-10), method='SLSQP', bounds=bnds,constraints=cons)\n",
    "\n",
    "# Output\n",
    "res\n",
    "print(res)"
   ]
  },
  {
   "cell_type": "code",
   "execution_count": 121,
   "id": "fd6e5a88",
   "metadata": {},
   "outputs": [
    {
     "name": "stdout",
     "output_type": "stream",
     "text": [
      "     fun: 1.4883720930232558\n",
      "     jac: array([-0.18604651, -0.74418601, -0.93023255,  0.93023255, -2.04651161])\n",
      " message: 'Optimization terminated successfully'\n",
      "    nfev: 20\n",
      "     nit: 3\n",
      "    njev: 3\n",
      "  status: 0\n",
      " success: True\n",
      "       x: array([-0.06976744,  0.02325581,  1.5116279 ,  1.46511628, -0.02325581])\n"
     ]
    }
   ],
   "source": [
    "## Sixth Iteration with initial conditions [0,0,0,0,0]\n",
    "from scipy.optimize import minimize\n",
    "\n",
    "# Function\n",
    "fun = lambda x: (x[0] - x[1])**2 + (x[1] + x[2]-2)**2+(x[3]-1)**2+(x[4]-1)**2\n",
    "\n",
    "# Constraints\n",
    "cons = ({'type': 'eq', 'fun': lambda x:  x[0] + 3 * x[1]},\n",
    "        {'type': 'eq', 'fun': lambda x: -x[2]+x[3] - 2 * x[4]},\n",
    "        {'type': 'eq', 'fun': lambda x: -x[1]-x[4]})\n",
    "\n",
    "# Boundary Conditions\n",
    "bnds = ((-10,10),(-10,10),(-10,10),(-10,10),(-10,10))\n",
    "\n",
    "# Execution\n",
    "res = minimize(fun, (0,0,0,0,0), method='SLSQP', bounds=bnds,constraints=cons)\n",
    "\n",
    "# Output\n",
    "res\n",
    "print(res)"
   ]
  },
  {
   "attachments": {},
   "cell_type": "markdown",
   "id": "f15d1e26",
   "metadata": {},
   "source": [
    "# Change your initial guess, do you find different solutions?\n",
    "\n",
    "|Iteration       |\t      |Function            |      |X values| <br>\n",
    "|:---------------|        |:----------------   |      |:--------------------------------------------------------------------|  \n",
    "|__-1,-1,-1,-1,-1|\t      |1.488372093\"98987\"  |      |-0.0697'4738',0.02324913,1.51162303,1.46512478,-0.02324913__ <br>\n",
    "|-10,-9,-8,-7,-6 |        |1.4883720958972313  |      |-0.0697679,0.02325597,1.51166589,1.46515395,-0.02325597 <br>\n",
    "|__10,9,8,7,6\t |        |1.488372093\"0250495\"|      |-0.0697'6684', 0.02325561,  1.51162849,  1.46511726, -0.02325561__ <br>\n",
    "|10,10,10,10,10\t |        |1.4883720940959808  |      |-0.06977049,0.02325683,1.5116055,1.46509184,-0.02325683 <br>\n",
    "|-10,-10,-10,-10,-10|\t  |1.488372098254787   |      |-0.06976901,  0.02325634,  1.51167928,  1.46516661, -0.02325634 <br>\n",
    "|0,0,0,0,0\t     |        |1.4883720930232558  |      |-0.06976744,0.02325581,1.5116279 ,  1.46511628, -0.02325581 <br>\n",
    "\n",
    "- Based on above iterations, I observed that with change in initial conditions there is very minimum change in the solution.\n",
    "For example, when we consider the 2 scenarios(1st and 3rd), we can see that value of function changes at 10th decimal point and value of x1 changes from 5th decimal point, which can be considered as very minimum. "
   ]
  }
 ],
 "metadata": {
  "kernelspec": {
   "display_name": "Python 3",
   "language": "python",
   "name": "python3"
  },
  "language_info": {
   "codemirror_mode": {
    "name": "ipython",
    "version": 3
   },
   "file_extension": ".py",
   "mimetype": "text/x-python",
   "name": "python",
   "nbconvert_exporter": "python",
   "pygments_lexer": "ipython3",
   "version": "3.8.8"
  }
 },
 "nbformat": 4,
 "nbformat_minor": 5
}
