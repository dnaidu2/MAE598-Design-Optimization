{
 "cells": [
  {
   "cell_type": "markdown",
   "id": "938d06e9",
   "metadata": {},
   "source": [
    "# HW_1_Python SciPy.Optimize"
   ]
  },
  {
   "cell_type": "markdown",
   "id": "34977ec1",
   "metadata": {},
   "source": [
    "#Problem Statement: Solve the problem using Python SciPy.optimize\n",
    "<br>\n",
    "#Minimize: (x1-x2)^2+(x2+x3-2)^2+(x4-1)^2+(x5-1)^2\n",
    "<br>\n",
    "#Subject to:<br>\n",
    "             x1+3x2 = 0 <br>\n",
    "             x3+x4-2x5 = 0 <br>\n",
    "             x2-x5 = 0 <br>\n",
    "#Boundary Conditions : <br>\n",
    "-10<= xi <= 10, i = 1,2,3,4,5 <br>\n",
    "#Initial guesses of the solution <br>\n",
    "[-1,-1,-1,-1,-1],[-10,-9,-8,-7,-6],[10,9,8,7,6],[10,10,10,10,10],[-10,-10,-10,-10,-10],[0,0,0,0,0]"
   ]
  },
  {
   "cell_type": "markdown",
   "id": "45f03407",
   "metadata": {},
   "source": [
    "# Code"
   ]
  },
  {
   "cell_type": "code",
   "execution_count": 141,
   "id": "8162d394",
   "metadata": {
    "scrolled": true
   },
   "outputs": [
    {
     "name": "stdout",
     "output_type": "stream",
     "text": [
      "     fun: 4.093023255824878\n",
      "     jac: array([-2.04651427, -0.18604708, -2.23256135, -2.23255301, -1.48837143])\n",
      " message: 'Optimization terminated successfully'\n",
      "    nfev: 43\n",
      "     nit: 7\n",
      "    njev: 7\n",
      "  status: 0\n",
      " success: True\n",
      "       x: array([-0.76744284,  0.25581428,  0.62790506, -0.1162765 ,  0.25581428])\n"
     ]
    }
   ],
   "source": [
    "# First Iteration with initial conditions [-1,-1,-1,-1,-1]\n",
    "from scipy.optimize import minimize\n",
    "\n",
    "# Function\n",
    "fun = lambda x: (x[0] - x[1])**2 + (x[1] + x[2]-2)**2 + (x[3]-1)**2 + (x[4]-1)**2\n",
    "\n",
    "# Constraints\n",
    "cons = ({'type': 'eq', 'fun': lambda x:  x[0] + 3 * x[1]},\n",
    "        {'type': 'eq', 'fun': lambda x:  x[2]+ x[3] - 2 * x[4]},\n",
    "        {'type': 'eq', 'fun': lambda x:  x[1]-x[4]})\n",
    "\n",
    "# Boundary Conditions\n",
    "bnds = ((-10,10),(-10,10),(-10,10),(-10,10),(-10,10))\n",
    "\n",
    "# Execution\n",
    "res = minimize(fun, (-1,-1,-1,-1,-1), method='SLSQP', bounds=bnds,constraints=cons)\n",
    "\n",
    "# Output\n",
    "res\n",
    "print(res)"
   ]
  },
  {
   "cell_type": "code",
   "execution_count": 142,
   "id": "fa895d0a",
   "metadata": {
    "scrolled": true
   },
   "outputs": [
    {
     "name": "stdout",
     "output_type": "stream",
     "text": [
      "     fun: 4.093023255813954\n",
      "     jac: array([-2.04651159, -0.18604654, -2.23255813, -2.23255813, -1.48837209])\n",
      " message: 'Optimization terminated successfully'\n",
      "    nfev: 37\n",
      "     nit: 6\n",
      "    njev: 6\n",
      "  status: 0\n",
      " success: True\n",
      "       x: array([-0.76744186,  0.25581395,  0.62790697, -0.11627907,  0.25581395])\n"
     ]
    }
   ],
   "source": [
    "## Second Iteration with initial conditions [-10,-9,-8,-7,-6]\n",
    "from scipy.optimize import minimize\n",
    "\n",
    "# Function\n",
    "fun = lambda x: (x[0] - x[1])**2 + (x[1] + x[2]-2)**2+(x[3]-1)**2+(x[4]-1)**2\n",
    "\n",
    "# Constraints\n",
    "cons = ({'type': 'eq', 'fun': lambda x:  x[0] + 3 * x[1]},\n",
    "        {'type': 'eq', 'fun': lambda x:  x[2]+ x[3] - 2 * x[4]},\n",
    "        {'type': 'eq', 'fun': lambda x:  x[1]-x[4]})\n",
    "\n",
    "# Boundary Conditions\n",
    "bnds = ((-10,10),(-10,10),(-10,10),(-10,10),(-10,10))\n",
    "\n",
    "# Execution\n",
    "res = minimize(fun, (-10,-9,-8,-7,-6), method='SLSQP', bounds=bnds,constraints=cons)\n",
    "\n",
    "# Output\n",
    "res\n",
    "print(res)"
   ]
  },
  {
   "cell_type": "code",
   "execution_count": 143,
   "id": "a968badb",
   "metadata": {},
   "outputs": [
    {
     "name": "stdout",
     "output_type": "stream",
     "text": [
      "     fun: 4.093023255813954\n",
      "     jac: array([-2.04651159, -0.18604648, -2.23255813, -2.23255813, -1.48837209])\n",
      " message: 'Optimization terminated successfully'\n",
      "    nfev: 37\n",
      "     nit: 6\n",
      "    njev: 6\n",
      "  status: 0\n",
      " success: True\n",
      "       x: array([-0.76744185,  0.25581395,  0.62790697, -0.11627906,  0.25581395])\n"
     ]
    }
   ],
   "source": [
    "## Third Iteration with initial conditions [10,9,8,7,6]\n",
    "from scipy.optimize import minimize\n",
    "\n",
    "# Function\n",
    "fun = lambda x: (x[0] - x[1])**2 + (x[1] + x[2]-2)**2+(x[3]-1)**2+(x[4]-1)**2\n",
    "\n",
    "# Constraints\n",
    "cons = ({'type': 'eq', 'fun': lambda x:  x[0] + 3 * x[1]},\n",
    "        {'type': 'eq', 'fun': lambda x:  x[2]+ x[3] - 2 * x[4]},\n",
    "        {'type': 'eq', 'fun': lambda x:  x[1]-x[4]})\n",
    "\n",
    "# Boundary Conditions\n",
    "bnds = ((-10,10),(-10,10),(-10,10),(-10,10),(-10,10))\n",
    "\n",
    "# Execution\n",
    "res = minimize(fun, (10,9,8,7,6), method='SLSQP', bounds=bnds,constraints=cons)\n",
    "\n",
    "# Output\n",
    "res\n",
    "print(res)"
   ]
  },
  {
   "cell_type": "code",
   "execution_count": 144,
   "id": "f297c85c",
   "metadata": {},
   "outputs": [
    {
     "name": "stdout",
     "output_type": "stream",
     "text": [
      "     fun: 4.093023258012402\n",
      "     jac: array([-2.04654074, -0.18606842, -2.23260909, -2.23248535, -1.48836482])\n",
      " message: 'Optimization terminated successfully'\n",
      "    nfev: 48\n",
      "     nit: 8\n",
      "    njev: 8\n",
      "  status: 0\n",
      " success: True\n",
      "       x: array([-0.76745276,  0.25581759,  0.62787785, -0.11624268,  0.25581759])\n"
     ]
    }
   ],
   "source": [
    "## Fourth Iteration with initial conditions [10,10,10,10,10]\n",
    "from scipy.optimize import minimize\n",
    "\n",
    "# Function\n",
    "fun = lambda x: (x[0] - x[1])**2 + (x[1] + x[2]-2)**2+(x[3]-1)**2+(x[4]-1)**2\n",
    "\n",
    "# Constraints\n",
    "cons = ({'type': 'eq', 'fun': lambda x:  x[0] + 3 * x[1]},\n",
    "        {'type': 'eq', 'fun': lambda x:  x[2]+ x[3] - 2 * x[4]},\n",
    "        {'type': 'eq', 'fun': lambda x:  x[1]-x[4]})\n",
    "\n",
    "# Boundary Conditions\n",
    "bnds = ((-10,10),(-10,10),(-10,10),(-10,10),(-10,10))\n",
    "\n",
    "# Execution\n",
    "res = minimize(fun, (10,10,10,10,10), method='SLSQP', bounds=bnds,constraints=cons)\n",
    "\n",
    "# Output\n",
    "res\n",
    "print(res)"
   ]
  },
  {
   "cell_type": "code",
   "execution_count": 145,
   "id": "48f2ad75",
   "metadata": {},
   "outputs": [
    {
     "name": "stdout",
     "output_type": "stream",
     "text": [
      "     fun: 4.09302325604787\n",
      "     jac: array([-2.04650199, -0.18603969, -2.23254162, -2.23258191, -1.48837447])\n",
      " message: 'Optimization terminated successfully'\n",
      "    nfev: 48\n",
      "     nit: 8\n",
      "    njev: 8\n",
      "  status: 0\n",
      " success: True\n",
      "       x: array([-0.76743824,  0.25581275,  0.62791644, -0.11629094,  0.25581275])\n"
     ]
    }
   ],
   "source": [
    "## Fifth Iteration with initial conditions [-10,-10,-10,-10,-10]\n",
    "from scipy.optimize import minimize\n",
    "\n",
    "# Function\n",
    "fun = lambda x: (x[0] - x[1])**2 + (x[1] + x[2]-2)**2+(x[3]-1)**2+(x[4]-1)**2\n",
    "\n",
    "# Constraints\n",
    "cons = ({'type': 'eq', 'fun': lambda x:  x[0] + 3 * x[1]},\n",
    "        {'type': 'eq', 'fun': lambda x:  x[2]+ x[3] - 2 * x[4]},\n",
    "        {'type': 'eq', 'fun': lambda x:  x[1]-x[4]})\n",
    "\n",
    "# Boundary Conditions\n",
    "bnds = ((-10,10),(-10,10),(-10,10),(-10,10),(-10,10))\n",
    "\n",
    "# Execution\n",
    "res = minimize(fun, (-10,-10,-10,-10,-10), method='SLSQP', bounds=bnds,constraints=cons)\n",
    "\n",
    "# Output\n",
    "res\n",
    "print(res)"
   ]
  },
  {
   "cell_type": "code",
   "execution_count": 146,
   "id": "9f252799",
   "metadata": {},
   "outputs": [
    {
     "name": "stdout",
     "output_type": "stream",
     "text": [
      "     fun: 4.093023255813954\n",
      "     jac: array([-2.04651159, -0.18604648, -2.23255813, -2.23255813, -1.48837209])\n",
      " message: 'Optimization terminated successfully'\n",
      "    nfev: 20\n",
      "     nit: 3\n",
      "    njev: 3\n",
      "  status: 0\n",
      " success: True\n",
      "       x: array([-0.76744186,  0.25581395,  0.62790698, -0.11627907,  0.25581395])\n"
     ]
    }
   ],
   "source": [
    "## Sixth Iteration with initial conditions [0,0,0,0,0]\n",
    "from scipy.optimize import minimize\n",
    "\n",
    "# Function\n",
    "fun = lambda x: (x[0] - x[1])**2 + (x[1] + x[2]-2)**2+(x[3]-1)**2+(x[4]-1)**2\n",
    "\n",
    "# Constraints\n",
    "cons = ({'type': 'eq', 'fun': lambda x:  x[0] + 3 * x[1]},\n",
    "        {'type': 'eq', 'fun': lambda x:  x[2]+ x[3] - 2 * x[4]},\n",
    "        {'type': 'eq', 'fun': lambda x:  x[1]-x[4]})\n",
    "\n",
    "# Boundary Conditions\n",
    "bnds = ((-10,10),(-10,10),(-10,10),(-10,10),(-10,10))\n",
    "\n",
    "# Execution\n",
    "res = minimize(fun, (0,0,0,0,0), method='SLSQP', bounds=bnds,constraints=cons)\n",
    "\n",
    "# Output\n",
    "res\n",
    "print(res)"
   ]
  },
  {
   "attachments": {},
   "cell_type": "markdown",
   "id": "282e11dc",
   "metadata": {},
   "source": [
    "# Change your initial guess, do you find different solutions?\n",
    "\n",
    "|Iteration       |\t      |Function            |      |X values| <br>\n",
    "|:---------------|        |:----------------   |      |:--------------------------------------------------------------------|  \n",
    "|__-1,-1,-1,-1,-1|\t      |4.09302325\"5824878\" |      |-0.7674'4284',  0.25581428,  0.62790506, -0.1162765 ,  0.25581428__ <br>\n",
    "|-10,-9,-8,-7,-6 |        |4.093023255813954   |      |-0.76744186,  0.25581395,  0.62790697, -0.11627907,  0.25581395 <br>\n",
    "|10,9,8,7,6\t     |        |4.093023255813954   |      |-0.76744185,  0.25581395,  0.62790697, -0.11627906,  0.25581395 <br>\n",
    "|10,10,10,10,10\t |        |4.093023258012402   |      |-0.76745276,  0.25581759,  0.62787785, -0.11624268,  0.25581759 <br>\n",
    "|__-10,-10,-10,-10,-10|\t  |4.09302325\"604787\"  |      |-0.7674'3824',  0.25581275,  0.62791644, -0.11629094,  0.25581275__ <br>\n",
    "|0,0,0,0,0\t     |        |4.093023255813954   |      |-0.76744186,  0.25581395,  0.62790698, -0.11627907,  0.25581395 <br>\n",
    "\n",
    "- Based on above iterations, I observed that with change in initial conditions there is very minimum change in the solution.\n",
    "For example, when we consider the 2 scenarios(1st and 5th), we can see that value of function changes at 9th decimal point and value of x1 changes from 5th decimal point, which is very minimum.\n",
    "- For some scenarios the function value is almost same and there is slight change in x values."
   ]
  }
 ],
 "metadata": {
  "kernelspec": {
   "display_name": "Python 3",
   "language": "python",
   "name": "python3"
  },
  "language_info": {
   "codemirror_mode": {
    "name": "ipython",
    "version": 3
   },
   "file_extension": ".py",
   "mimetype": "text/x-python",
   "name": "python",
   "nbconvert_exporter": "python",
   "pygments_lexer": "ipython3",
   "version": "3.8.8"
  }
 },
 "nbformat": 4,
 "nbformat_minor": 5
}
