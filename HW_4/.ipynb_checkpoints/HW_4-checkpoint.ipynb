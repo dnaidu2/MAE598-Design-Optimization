{
 "cells": [
  {
   "cell_type": "markdown",
   "id": "1f8c9642",
   "metadata": {},
   "source": [
    "## PROBLEM 1\n",
    "<img src = \"MAE 598 HW 4 P1_1.jpg\">\n",
    "<img src = \"MAE 598 HW 4 P1_2.jpg\">"
   ]
  },
  {
   "cell_type": "markdown",
   "id": "9c8d2ee2",
   "metadata": {},
   "source": [
    "## PROBLEM 2\n",
    "<img src = \"MAE 598 HW4 P2_1.jpg\">\n",
    "<img src = \"MAE 598 HW4 P2_2.jpg\">"
   ]
  },
  {
   "cell_type": "markdown",
   "id": "4ae8c26f",
   "metadata": {},
   "source": [
    "## PROBLEM 3\n",
    "<img src = \"MAE 598 HW4 P 3,4_1.jpg\">\n",
    "<img src = \"MAE 598 HW4 P 3,4_2.jpg\">\n",
    "<img src = \"MAE 598 HW4 P 3,4_3.jpg\">"
   ]
  },
  {
   "cell_type": "markdown",
   "id": "1ea6f25f",
   "metadata": {},
   "source": [
    "## PROBLEM 4\n",
    "<img src = \"MAE 598 HW4 P 3,4_4.jpg\">\n",
    "<img src = \"MAE 598 HW4 P 3,4_5.jpg\">\n",
    "<img src = \"MAE 598 HW4 P 3,4_6.jpg\">"
   ]
  },
  {
   "cell_type": "markdown",
   "id": "6ca02c2c",
   "metadata": {},
   "source": [
    "## PROBLEM 5\n",
    "<img src = \"Problem_5.jpg\">"
   ]
  },
  {
   "cell_type": "code",
   "execution_count": 1,
   "id": "ee37474c",
   "metadata": {},
   "outputs": [
    {
     "ename": "TypeError",
     "evalue": "'numpy.ndarray' object is not callable",
     "output_type": "error",
     "traceback": [
      "\u001b[1;31m---------------------------------------------------------------------------\u001b[0m",
      "\u001b[1;31mTypeError\u001b[0m                                 Traceback (most recent call last)",
      "\u001b[1;32m<ipython-input-1-5203bf61cf75>\u001b[0m in \u001b[0;36m<module>\u001b[1;34m\u001b[0m\n\u001b[0;32m     69\u001b[0m     \u001b[0mdfdd\u001b[0m \u001b[1;33m=\u001b[0m \u001b[0mdfdd\u001b[0m\u001b[1;33m(\u001b[0m\u001b[0mx\u001b[0m\u001b[1;33m)\u001b[0m\u001b[1;33m\u001b[0m\u001b[1;33m\u001b[0m\u001b[0m\n\u001b[0;32m     70\u001b[0m     \u001b[0merror\u001b[0m\u001b[1;33m.\u001b[0m\u001b[0mappend\u001b[0m\u001b[1;33m(\u001b[0m\u001b[0mmath\u001b[0m\u001b[1;33m.\u001b[0m\u001b[0mlog\u001b[0m\u001b[1;33m(\u001b[0m\u001b[0mnp\u001b[0m\u001b[1;33m.\u001b[0m\u001b[0mlinalg\u001b[0m\u001b[1;33m.\u001b[0m\u001b[0mnorm\u001b[0m\u001b[1;33m(\u001b[0m\u001b[0mdfdd\u001b[0m\u001b[1;33m)\u001b[0m\u001b[1;33m)\u001b[0m\u001b[1;33m)\u001b[0m\u001b[1;33m\u001b[0m\u001b[1;33m\u001b[0m\u001b[0m\n\u001b[1;32m---> 71\u001b[1;33m     \u001b[0ma\u001b[0m \u001b[1;33m=\u001b[0m \u001b[0mline_search\u001b[0m\u001b[1;33m(\u001b[0m\u001b[0mx\u001b[0m\u001b[1;33m,\u001b[0m \u001b[0mdfdd\u001b[0m\u001b[1;33m)\u001b[0m\u001b[1;33m\u001b[0m\u001b[1;33m\u001b[0m\u001b[0m\n\u001b[0m\u001b[0;32m     72\u001b[0m     \u001b[0mdk\u001b[0m\u001b[1;33m=\u001b[0m \u001b[0mx\u001b[0m\u001b[1;33m[\u001b[0m\u001b[1;36m0\u001b[0m\u001b[1;33m]\u001b[0m\u001b[1;33m-\u001b[0m \u001b[0ma\u001b[0m\u001b[1;33m*\u001b[0m\u001b[0mdfdd\u001b[0m\u001b[1;33m\u001b[0m\u001b[1;33m\u001b[0m\u001b[0m\n\u001b[0;32m     73\u001b[0m     \u001b[0msk0\u001b[0m\u001b[1;33m=\u001b[0m \u001b[0mx\u001b[0m\u001b[1;33m[\u001b[0m\u001b[1;36m1\u001b[0m\u001b[1;33m:\u001b[0m\u001b[1;36m3\u001b[0m\u001b[1;33m]\u001b[0m \u001b[1;33m+\u001b[0m \u001b[0ma\u001b[0m\u001b[1;33m*\u001b[0m \u001b[0mnp\u001b[0m\u001b[1;33m.\u001b[0m\u001b[0mtranspose\u001b[0m\u001b[1;33m(\u001b[0m\u001b[0mnp\u001b[0m\u001b[1;33m.\u001b[0m\u001b[0mmatmul\u001b[0m\u001b[1;33m(\u001b[0m\u001b[0mnp\u001b[0m\u001b[1;33m.\u001b[0m\u001b[0mmatmul\u001b[0m\u001b[1;33m(\u001b[0m\u001b[0mnp\u001b[0m\u001b[1;33m.\u001b[0m\u001b[0mlinalg\u001b[0m\u001b[1;33m.\u001b[0m\u001b[0minv\u001b[0m\u001b[1;33m(\u001b[0m\u001b[0mhs\u001b[0m\u001b[1;33m(\u001b[0m\u001b[0mx\u001b[0m\u001b[1;33m)\u001b[0m\u001b[1;33m)\u001b[0m\u001b[1;33m,\u001b[0m \u001b[0mhd\u001b[0m\u001b[1;33m(\u001b[0m\u001b[0mx\u001b[0m\u001b[1;33m)\u001b[0m\u001b[1;33m)\u001b[0m\u001b[1;33m,\u001b[0m \u001b[0mnp\u001b[0m\u001b[1;33m.\u001b[0m\u001b[0mtranspose\u001b[0m\u001b[1;33m(\u001b[0m\u001b[0mdfdd\u001b[0m\u001b[1;33m)\u001b[0m\u001b[1;33m)\u001b[0m\u001b[1;33m)\u001b[0m\u001b[1;33m\u001b[0m\u001b[1;33m\u001b[0m\u001b[0m\n",
      "\u001b[1;32m<ipython-input-1-5203bf61cf75>\u001b[0m in \u001b[0;36mline_search\u001b[1;34m(x, dfdd)\u001b[0m\n\u001b[0;32m     43\u001b[0m     \u001b[0mb\u001b[0m \u001b[1;33m=\u001b[0m \u001b[1;36m0.1\u001b[0m\u001b[1;33m\u001b[0m\u001b[1;33m\u001b[0m\u001b[0m\n\u001b[0;32m     44\u001b[0m     \u001b[0mt\u001b[0m \u001b[1;33m=\u001b[0m \u001b[1;36m0.3\u001b[0m\u001b[1;33m\u001b[0m\u001b[1;33m\u001b[0m\u001b[0m\n\u001b[1;32m---> 45\u001b[1;33m     \u001b[1;32mwhile\u001b[0m \u001b[0mfun\u001b[0m\u001b[1;33m(\u001b[0m\u001b[0mgrad\u001b[0m\u001b[1;33m(\u001b[0m\u001b[0mx\u001b[0m\u001b[1;33m,\u001b[0m\u001b[0mdfdd\u001b[0m\u001b[1;33m,\u001b[0m\u001b[0ma\u001b[0m\u001b[1;33m)\u001b[0m\u001b[1;33m)\u001b[0m\u001b[1;33m>\u001b[0m\u001b[1;33m(\u001b[0m\u001b[0mfun\u001b[0m\u001b[1;33m(\u001b[0m\u001b[0mx\u001b[0m\u001b[1;33m)\u001b[0m\u001b[1;33m-\u001b[0m\u001b[1;33m(\u001b[0m\u001b[0ma\u001b[0m\u001b[1;33m*\u001b[0m\u001b[0mt\u001b[0m\u001b[1;33m*\u001b[0m\u001b[0mdfdd\u001b[0m\u001b[1;33m**\u001b[0m\u001b[1;36m2\u001b[0m\u001b[1;33m)\u001b[0m\u001b[1;33m)\u001b[0m\u001b[1;33m:\u001b[0m  \u001b[1;31m# while phi(a,x)<obj(x-a*grad(x)): # if f(x+a*d)>phi(a) then backtrack. d is the search direction\u001b[0m\u001b[1;33m\u001b[0m\u001b[1;33m\u001b[0m\u001b[0m\n\u001b[0m\u001b[0;32m     46\u001b[0m         \u001b[0ma\u001b[0m \u001b[1;33m=\u001b[0m \u001b[0mb\u001b[0m\u001b[1;33m*\u001b[0m\u001b[0ma\u001b[0m\u001b[1;33m\u001b[0m\u001b[1;33m\u001b[0m\u001b[0m\n\u001b[0;32m     47\u001b[0m     \u001b[1;32mreturn\u001b[0m \u001b[0ma\u001b[0m\u001b[1;33m\u001b[0m\u001b[1;33m\u001b[0m\u001b[0m\n",
      "\u001b[1;32m<ipython-input-1-5203bf61cf75>\u001b[0m in \u001b[0;36mgrad\u001b[1;34m(x, dfdd, a)\u001b[0m\n\u001b[0;32m     35\u001b[0m \u001b[1;32mdef\u001b[0m \u001b[0mgrad\u001b[0m\u001b[1;33m(\u001b[0m\u001b[0mx\u001b[0m\u001b[1;33m,\u001b[0m\u001b[0mdfdd\u001b[0m\u001b[1;33m,\u001b[0m\u001b[0ma\u001b[0m\u001b[1;33m)\u001b[0m\u001b[1;33m:\u001b[0m\u001b[1;33m\u001b[0m\u001b[1;33m\u001b[0m\u001b[0m\n\u001b[0;32m     36\u001b[0m     \u001b[0md0\u001b[0m \u001b[1;33m=\u001b[0m \u001b[1;33m(\u001b[0m\u001b[0mx\u001b[0m\u001b[1;33m[\u001b[0m\u001b[1;36m0\u001b[0m\u001b[1;33m]\u001b[0m\u001b[1;33m-\u001b[0m\u001b[0ma\u001b[0m\u001b[1;33m*\u001b[0m\u001b[0mdfdd\u001b[0m\u001b[1;33m)\u001b[0m\u001b[1;33m[\u001b[0m\u001b[1;36m0\u001b[0m\u001b[1;33m]\u001b[0m\u001b[1;33m\u001b[0m\u001b[1;33m\u001b[0m\u001b[0m\n\u001b[1;32m---> 37\u001b[1;33m     \u001b[0ms0\u001b[0m \u001b[1;33m=\u001b[0m \u001b[0mx\u001b[0m\u001b[1;33m[\u001b[0m\u001b[1;36m1\u001b[0m\u001b[1;33m:\u001b[0m\u001b[1;36m3\u001b[0m\u001b[1;33m]\u001b[0m \u001b[1;33m+\u001b[0m \u001b[0ma\u001b[0m\u001b[1;33m*\u001b[0m \u001b[0mnp\u001b[0m\u001b[1;33m.\u001b[0m\u001b[0mtranspose\u001b[0m\u001b[1;33m(\u001b[0m\u001b[0mnp\u001b[0m\u001b[1;33m.\u001b[0m\u001b[0mmatmul\u001b[0m\u001b[1;33m(\u001b[0m\u001b[1;33m(\u001b[0m\u001b[0mnp\u001b[0m\u001b[1;33m.\u001b[0m\u001b[0mmatmul\u001b[0m\u001b[1;33m(\u001b[0m\u001b[0mfs\u001b[0m\u001b[1;33m(\u001b[0m\u001b[0mx\u001b[0m\u001b[1;33m)\u001b[0m\u001b[1;33m,\u001b[0m \u001b[0mnp\u001b[0m\u001b[1;33m.\u001b[0m\u001b[0mlinalg\u001b[0m\u001b[1;33m.\u001b[0m\u001b[0minv\u001b[0m\u001b[1;33m(\u001b[0m\u001b[0mhs\u001b[0m\u001b[1;33m(\u001b[0m\u001b[0mx\u001b[0m\u001b[1;33m)\u001b[0m\u001b[1;33m)\u001b[0m\u001b[1;33m)\u001b[0m\u001b[1;33m,\u001b[0m \u001b[0mhd\u001b[0m\u001b[1;33m(\u001b[0m\u001b[0mx\u001b[0m\u001b[1;33m)\u001b[0m\u001b[1;33m)\u001b[0m\u001b[1;33m,\u001b[0m \u001b[0mnp\u001b[0m\u001b[1;33m.\u001b[0m\u001b[0mtranspose\u001b[0m\u001b[1;33m(\u001b[0m\u001b[1;33m[\u001b[0m\u001b[0mdfdd\u001b[0m\u001b[1;33m(\u001b[0m\u001b[0mx\u001b[0m\u001b[1;33m)\u001b[0m\u001b[1;33m]\u001b[0m\u001b[1;33m)\u001b[0m\u001b[1;33m)\u001b[0m\u001b[1;33m)\u001b[0m\u001b[1;33m[\u001b[0m\u001b[1;36m0\u001b[0m\u001b[1;33m]\u001b[0m\u001b[1;33m\u001b[0m\u001b[1;33m\u001b[0m\u001b[0m\n\u001b[0m\u001b[0;32m     38\u001b[0m     \u001b[1;32mreturn\u001b[0m \u001b[0mnp\u001b[0m\u001b[1;33m.\u001b[0m\u001b[0mappend\u001b[0m\u001b[1;33m(\u001b[0m\u001b[0md0\u001b[0m\u001b[1;33m,\u001b[0m\u001b[0ms0\u001b[0m\u001b[1;33m)\u001b[0m\u001b[1;33m\u001b[0m\u001b[1;33m\u001b[0m\u001b[0m\n\u001b[0;32m     39\u001b[0m \u001b[1;33m\u001b[0m\u001b[0m\n",
      "\u001b[1;31mTypeError\u001b[0m: 'numpy.ndarray' object is not callable"
     ]
    }
   ],
   "source": [
    "import numpy as np\n",
    "import math\n",
    "from matplotlib import pyplot as plt\n",
    "\n",
    "# Step 1: Define state and decision variables - x1 is decision variable, x2 & x3 are state variables\n",
    "#d = x[0] # Decision variable\n",
    "#s = x[1],x[2] # State variable\n",
    "\n",
    "# Step 2: Initialize x0 = [s0,d0]\n",
    "k = 0\n",
    "e = .001\n",
    "\n",
    "# Step 3: Reduced gradient\n",
    "\n",
    "def fun(x):\n",
    "    return x[0]**2+x[1]**2+x[2]**2\n",
    "\n",
    "def fd(x):\n",
    "    return 2*x[0] \n",
    "\n",
    "def fs(x):\n",
    "    return np.array([2*x[1], 2*x[2]])\n",
    "\n",
    "def hs(x):\n",
    "    return np.array([[2*x[1]/5, 2*x[2]/25],[1, -1]])\n",
    "\n",
    "def hd(x):\n",
    "    return np.array([[x[0]/2],[1]])\n",
    "\n",
    "def dfdd(x):\n",
    "    return fd(x) - np.matmul(np.matmul(fs(x), np.linalg.inv(hs(x))), hd(x))\n",
    "\n",
    "# Step 4: Initial gradient, linesearch and direction of gradient\n",
    "\n",
    "def grad(x,dfdd,a):\n",
    "    d0 = (x[0]-a*dfdd)[0]\n",
    "    s0 = x[1:3] + a* np.transpose(np.matmul((np.matmul(fs(x), np.linalg.inv(hs(x))), hd(x)), np.transpose([dfdd(x)])))[0]\n",
    "    return np.append(d0,s0)\n",
    "\n",
    "# Armijo line search\n",
    "def line_search(x, dfdd):\n",
    "    a = 1\n",
    "    b = 0.1\n",
    "    t = 0.3\n",
    "    while fun(grad(x,dfdd,a))>(fun(x)-(a*t*dfdd**2)):  # while phi(a,x)<obj(x-a*grad(x)): # if f(x+a*d)>phi(a) then backtrack. d is the search direction\n",
    "        a = b*a\n",
    "    return a\n",
    "\n",
    "# Step 4.4 Newton's Ralphson algorithm\n",
    "def s(x):  \n",
    "    while np.linalg.norm(np.array([[x[0]**2/4 + x[1]**2/5 + x[2]**2/25 -1], [x[0]+x[1]-x[2]]]))> e:\n",
    "        hs = hs(x)\n",
    "        sk_j1= np.transpose(np.transpose([x[1:3]]) - np.matmul(np.linalg.inv(hs), np.array([[x[0]**2/4 + x[1]**2/5 + x[2]**2/25 -1], [x[0]+x[1]-x[2]]])))\n",
    "        x = np.append(x[0:1], np.transpose(sk_j1[0]))\n",
    "    return x\n",
    "\n",
    "# Error \n",
    "x1 = 0\n",
    "x2 = 1 /12*((600-170*(x1**2))**(1/2) +10*x1)\n",
    "x3 = x2-x1\n",
    "\n",
    "x0 = np.array([x1, x2, x3])\n",
    "\n",
    "x_upd = [x0]\n",
    "error = []\n",
    "\n",
    "while np.linalg.norm(dfdd(x_upd[-1])) > e:\n",
    "    x = x_upd[-1]\n",
    "    dfdd = dfdd(x)\n",
    "    error.append(math.log(np.linalg.norm(dfdd))) \n",
    "    a = line_search(x, dfdd)\n",
    "    dk= x[0]- a*dfdd\n",
    "    sk0= x[1:3] + a* np.transpose(np.matmul(np.matmul(np.linalg.inv(hs(x)), hd(x)), np.transpose(dfdd)))\n",
    "    xk0=np.append(dk,sk0) \n",
    "        \n",
    "    x = s(xk0)\n",
    "    x_upd.append(x)\n",
    "    \n",
    "print('Point at which Local solution occurs' +str(x_upd[-1]))\n",
    "\n",
    "# Convergence Plot\n",
    "plt.plot(error)\n",
    "plt.title('Convergence Plot')\n",
    "plt.xlabel('Number of iterations')\n",
    "plt.ylabel('Error')"
   ]
  },
  {
   "cell_type": "code",
   "execution_count": null,
   "id": "724403f3",
   "metadata": {},
   "outputs": [],
   "source": []
  }
 ],
 "metadata": {
  "kernelspec": {
   "display_name": "Python 3",
   "language": "python",
   "name": "python3"
  },
  "language_info": {
   "codemirror_mode": {
    "name": "ipython",
    "version": 3
   },
   "file_extension": ".py",
   "mimetype": "text/x-python",
   "name": "python",
   "nbconvert_exporter": "python",
   "pygments_lexer": "ipython3",
   "version": "3.8.8"
  }
 },
 "nbformat": 4,
 "nbformat_minor": 5
}
