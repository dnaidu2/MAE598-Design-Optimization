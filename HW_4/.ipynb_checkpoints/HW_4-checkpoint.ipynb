{
 "cells": [
  {
   "cell_type": "markdown",
   "id": "4ae8c26f",
   "metadata": {},
   "source": [
    "## PROBLEM 3\n",
    "<img src = \"MAE 598 HW4 P 3,4_1.jpg\">\n",
    "<img src = \"MAE 598 HW4 P 3,4_2.jpg\">\n",
    "<img src = \"MAE 598 HW4 P 3,4_3.jpg\">"
   ]
  },
  {
   "cell_type": "markdown",
   "id": "1ea6f25f",
   "metadata": {},
   "source": [
    "## PROBLEM 4\n",
    "<img src = \"MAE 598 HW4 P 3,4_4.jpg\">\n",
    "<img src = \"MAE 598 HW4 P 3,4_5.jpg\">\n",
    "<img src = \"MAE 598 HW4 P 3,4_6.jpg\">"
   ]
  }
 ],
 "metadata": {
  "kernelspec": {
   "display_name": "Python 3",
   "language": "python",
   "name": "python3"
  },
  "language_info": {
   "codemirror_mode": {
    "name": "ipython",
    "version": 3
   },
   "file_extension": ".py",
   "mimetype": "text/x-python",
   "name": "python",
   "nbconvert_exporter": "python",
   "pygments_lexer": "ipython3",
   "version": "3.8.8"
  }
 },
 "nbformat": 4,
 "nbformat_minor": 5
}
