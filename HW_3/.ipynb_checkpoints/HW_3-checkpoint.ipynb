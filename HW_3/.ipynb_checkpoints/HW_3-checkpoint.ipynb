{
 "cells": [
  {
   "cell_type": "markdown",
   "id": "d693251e",
   "metadata": {},
   "source": [
    "# Problem 1\n",
    "## Formulate the Least Square Problem for Vapor-liquid equilibria data"
   ]
  },
  {
   "cell_type": "code",
   "execution_count": 145,
   "id": "c1652a39",
   "metadata": {},
   "outputs": [],
   "source": [
    "from PIL import Image\n",
    "\n",
    "im1 = Image.open(r'C:\\Users\\divya\\PycharmProjects\\MAE598-Design-Optimization\\HW_3\\P1_question.png')\n",
    "rgb_im = im1.convert('RGB')\n",
    "rgb_im.save(r'C:\\Users\\divya\\PycharmProjects\\MAE598-Design-Optimization\\HW_3\\P1.jpg')"
   ]
  },
  {
   "cell_type": "markdown",
   "id": "cd6a83a4",
   "metadata": {},
   "source": [
    "<img src = \"P1.jpg\">"
   ]
  },
  {
   "cell_type": "code",
   "execution_count": 229,
   "id": "31a115b7",
   "metadata": {},
   "outputs": [
    {
     "name": "stdout",
     "output_type": "stream",
     "text": [
      "Vapor-liquid equilibria model: tensor([28.8241, 34.6443, 36.4530, 36.8673, 36.8740, 36.7498, 36.3904, 35.3848,\n",
      "        32.9478, 27.7300, 17.4732], dtype=torch.float64,\n",
      "       grad_fn=<AddBackward0>)\n",
      "A12 and A21 values: [1.9584184 1.6891861]\n",
      "Loss: 0.000716000944521511\n",
      "Difference: tensor(0.7241, dtype=torch.float64, grad_fn=<SubBackward0>)\n",
      "Difference: tensor(0.2443, dtype=torch.float64, grad_fn=<SubBackward0>)\n",
      "Difference: tensor(-0.2470, dtype=torch.float64, grad_fn=<SubBackward0>)\n",
      "Difference: tensor(-0.0327, dtype=torch.float64, grad_fn=<SubBackward0>)\n",
      "Difference: tensor(0.0740, dtype=torch.float64, grad_fn=<SubBackward0>)\n",
      "Difference: tensor(0.0498, dtype=torch.float64, grad_fn=<SubBackward0>)\n",
      "Difference: tensor(-0.1096, dtype=torch.float64, grad_fn=<SubBackward0>)\n",
      "Difference: tensor(-0.0152, dtype=torch.float64, grad_fn=<SubBackward0>)\n",
      "Difference: tensor(0.0478, dtype=torch.float64, grad_fn=<SubBackward0>)\n",
      "Difference: tensor(0.0300, dtype=torch.float64, grad_fn=<SubBackward0>)\n",
      "Difference: tensor(-0.0268, dtype=torch.float64, grad_fn=<SubBackward0>)\n"
     ]
    },
    {
     "data": {
      "image/png": "[encoded data removed]",
      "text/plain": [
       "<Figure size 432x288 with 1 Axes>"
      ]
     },
     "metadata": {
      "needs_background": "light"
     },
     "output_type": "display_data"
    }
   ],
   "source": [
    "import numpy as np\n",
    "import torch as t\n",
    "from torch.autograd import Variable\n",
    "import matplotlib.pyplot as plt\n",
    "\n",
    "# Given data for a(1,2,3) for water(H2o) and 1,4 dioxane system(14_ds)\n",
    "\n",
    "T = 20\n",
    "a_H2o = t.tensor([8.07131, 1730.63, 233.426])\n",
    "a_14_ds = t.tensor([7.43155, 1554.679, 240.337])\n",
    "\n",
    "# Calculation of the saturation pressures by using Antoine equation\n",
    "\n",
    "psat_H2o   = 10**(a_H2o[0]-(a_H2o[1]/(T+a_H2o[2])))\n",
    "psat_14_ds = 10**(a_14_ds[0]-(a_14_ds[1]/(T+a_14_ds[2])))\n",
    "psat       = t.tensor([psat_H2o,psat_14_ds],requires_grad=False, dtype =t.float64)\n",
    "\n",
    "\n",
    "# Given measured data for x1,x2 and p\n",
    "x1 = np.asarray(np.arange(0.0,1.1,0.1))\n",
    "x2 = 1-np.asarray(x1)\n",
    "x  = t.tensor([x1,x2], requires_grad=False, dtype =t.float64)\n",
    "p  = np.asarray([28.1, 34.4, 36.7, 36.9, 36.8, 36.7, 36.5, 35.4, 32.9, 27.7, 17.5])\n",
    "\n",
    "# Defining initial values for variables A1 and A2\n",
    "A = Variable(t.tensor([1.0,1.0]),requires_grad=True)\n",
    "\n",
    "# Definig model for vapor - liquid equilibria data\n",
    "def model(x,A,psat):\n",
    "    t_A12 = (A[0]*(A[1]*x[1]/(A[0]*x[0]+A[1]*x[1]))**2)\n",
    "    t_A21 = (A[1]*(A[0]*x[0]/(A[0]*x[0]+A[1]*x[1]))**2)\n",
    "    term1 = x[0]*t.exp(t_A12)*psat[0]\n",
    "    term2 = x[1]*t.exp(t_A21)*psat[1]\n",
    "    return term1+term2\n",
    "\n",
    "# Fix the step size\n",
    "a = 0.001\n",
    "\n",
    "# calculating gradient\n",
    "for i in range(1000):  # TODO: change the termination criterion\n",
    "    for i in range(0,len(x1)):\n",
    "        loss = (model(x,A,psat)[i]-p[i])**2\n",
    "        loss.backward()\n",
    "    A.grad.numpy()\n",
    "      \n",
    "# no_grad() specifies that the operations within this context are not part of the computational graph, i.e., we don't need the gradient descent algorithm itself to be differentiable with respect to x\n",
    "    with t.no_grad():\n",
    "        A -= (a * A.grad).requires_grad_(True)\n",
    "        \n",
    "        # need to clear the gradient at every step, or otherwise it will accumulate...\n",
    "        A.grad.zero_()\n",
    "        \n",
    "print(\"Vapor-liquid equilibria model:\",model(x,A,psat))\n",
    "print(\"A12 and A21 values:\",A.data.numpy())\n",
    "print(\"Loss:\",loss.data.numpy())\n",
    "\n",
    "# Compare your optimized model with the data\n",
    "for n in range(0,len(p)):\n",
    "    diff = model(x,A,psat)[n]-p[n]\n",
    "    print(\"Difference:\",diff)\n",
    "\n",
    "# Graph\n",
    "fig, c = plt.subplots()\n",
    "  \n",
    "c.scatter(x1, p, c ='b', label ='Actual data')\n",
    "c.plot(x1, model(x,A,psat).detach().numpy(), c ='r', label ='Optimized model')\n",
    "plt.scatter(x2, p,c ='r',label ='x2_Actual data')\n",
    "plt.plot(x2, model(x,A,psat).detach().numpy(),label ='x2_Optimized model')\n",
    "plt.legend()\n",
    "plt.title('Vapor Liquid equilibria data Vs OLS model')\n",
    "leg = c.legend(loc =\"lower center\")\n",
    "plt.show()\n",
    "             "
   ]
  },
  {
   "cell_type": "markdown",
   "id": "112d9a23",
   "metadata": {},
   "source": [
    "#### Does your model fit well with the data?\n",
    "From the above graph, we can see that the P values for all (x1,x2) is almost same for given Vapor Liquid equilibria data and OLS optimized model. The loss and difference between 2 P's is also small.\n",
    "And the optimized model curve and actual data curve is neither underfitting nor overfitting and paases through all the points in given data.\n",
    "So, the designed optimized OLS model fits well with the given data."
   ]
  },
  {
   "cell_type": "code",
   "execution_count": null,
   "id": "2534c3af",
   "metadata": {},
   "outputs": [],
   "source": []
  }
 ],
 "metadata": {
  "kernelspec": {
   "display_name": "Python 3",
   "language": "python",
   "name": "python3"
  },
  "language_info": {
   "codemirror_mode": {
    "name": "ipython",
    "version": 3
   },
   "file_extension": ".py",
   "mimetype": "text/x-python",
   "name": "python",
   "nbconvert_exporter": "python",
   "pygments_lexer": "ipython3",
   "version": "3.8.8"
  }
 },
 "nbformat": 4,
 "nbformat_minor": 5
}
