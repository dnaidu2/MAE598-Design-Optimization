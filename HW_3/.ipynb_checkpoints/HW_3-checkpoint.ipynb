{
 "cells": [
  {
   "cell_type": "markdown",
   "id": "55544b9e",
   "metadata": {},
   "source": [
    "# Problem 1\n",
    "## Formulate the Least Square Problem for Vapor-liquid equilibria data\n",
    "<br>\n",
    "<img src = \"P1_question.png\" alt = \"MAE 598_HW2-P2a-page-001\" title = \"Nearest point page 1\" />\n",
    "<br>"
   ]
  },
  {
   "cell_type": "code",
   "execution_count": 102,
   "id": "c67b0247",
   "metadata": {},
   "outputs": [
    {
     "name": "stdout",
     "output_type": "stream",
     "text": [
      "Vapor-liquid equilibria model: tensor([28.8241, 30.1302, 30.6279, 30.6336, 30.3132, 29.7235, 28.8288, 27.4982,\n",
      "        25.4819, 22.3634, 17.4732], dtype=torch.float64,\n",
      "       grad_fn=<AddBackward0>)\n",
      "A12 and A21 values: [1.9584184 1.6891861]\n",
      "Loss: 0.6702104913132515\n"
     ]
    }
   ],
   "source": [
    "import numpy as np\n",
    "import torch as t\n",
    "from torch.autograd import Variable\n",
    "import matplotlib as plt\n",
    "\n",
    "# Given data for a(1,2,3) for water(H2o) and 1,4 dioxane system(14_ds)\n",
    "\n",
    "T = 20\n",
    "a_H2o = t.tensor([8.07131, 1730.63, 233.426])\n",
    "a_14_ds = t.tensor([7.43155, 1554.679, 240.337])\n",
    "\n",
    "# Calculation of the saturation pressures by using Antoine equation\n",
    "\n",
    "psat_H2o   = 10**(a_H2o[0]-(a_H2o[1]/(T+a_H2o[2])))\n",
    "psat_14_ds = 10**(a_14_ds[0]-(a_14_ds[1]/(T+a_14_ds[2])))\n",
    "psat       = t.tensor([psat_H2o,psat_14_ds],requires_grad=True, dtype =t.float64)\n",
    "\n",
    "\n",
    "# Given measured data for x1,x2 and p\n",
    "x1 = np.asarray(np.arange(0.0,1.1,0.1))\n",
    "x2 = 1-np.asarray(x1)\n",
    "x  = t.tensor([x1,x2], requires_grad=False, dtype =t.float64)\n",
    "p  = t.tensor([28.1, 34.4, 36.7, 36.9, 36.8, 36.7, 36.5, 35.4, 32.9, 27.7, 17.5],requires_grad=False, dtype =t.float64)\n",
    "\n",
    "# Defining initial values for variables A1 and A2\n",
    "A = Variable(t.tensor([1.0,1.0]),requires_grad=True)\n",
    "# Definig model for vapor - liquid equilibria data\n",
    "def model(x,A,psat):\n",
    "    t_A12 = (A[0]*(A[1]*x[1]/(A[0]*x[0]+A[1]*x[1]))**2)\n",
    "    t_A21 = (A[1]*(A[0]*x[0]/(A[0]*x[0]+A[1]*x[1]))**2)\n",
    "    term1 = x[0]*t.exp(t_A12)*psat[0]\n",
    "    term2 = x[1]*t.exp(t_A21)*psat[1]\n",
    "    p_model = term1+term2\n",
    "    return p_model\n",
    "\n",
    "# Fix the step size\n",
    "a = 0.001\n",
    "\n",
    "for i in range(1000):  # TODO: change the termination criterion\n",
    "    loss = t.sum((p-model(x,A,psat))**2)\n",
    "    loss.backward()\n",
    "    \n",
    "    # no_grad() specifies that the operations within this context are not part of the computational graph, i.e., we don't need the gradient descent algorithm itself to be differentiable with respect to x\n",
    "    with t.no_grad():\n",
    "        A -= a * A.grad\n",
    "        \n",
    "        # need to clear the gradient at every step, or otherwise it will accumulate...\n",
    "        A.grad.zero_()\n",
    "        \n",
    "print(\"Vapor-liquid equilibria model:\",p_model)\n",
    "print(\"A12 and A21 values:\",A.data.numpy())\n",
    "print(\"Loss:\",loss.data.numpy())\n",
    "\n",
    "\n",
    "             "
   ]
  }
 ],
 "metadata": {
  "kernelspec": {
   "display_name": "Python 3",
   "language": "python",
   "name": "python3"
  },
  "language_info": {
   "codemirror_mode": {
    "name": "ipython",
    "version": 3
   },
   "file_extension": ".py",
   "mimetype": "text/x-python",
   "name": "python",
   "nbconvert_exporter": "python",
   "pygments_lexer": "ipython3",
   "version": "3.8.8"
  }
 },
 "nbformat": 4,
 "nbformat_minor": 5
}
