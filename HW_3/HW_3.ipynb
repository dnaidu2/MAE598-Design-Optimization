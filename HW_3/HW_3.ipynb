{
 "cells": [
  {
   "cell_type": "markdown",
   "id": "38dbb5bf",
   "metadata": {},
   "source": [
    "# Problem 1\n",
    "## Formulate the Least Square Problem for Vapor-liquid equilibria data\n",
    "<br>\n",
    "<img src = \"P1.png\">\n",
    "<br>"
   ]
  },
  {
   "cell_type": "code",
   "execution_count": 57,
   "id": "78b6b590",
   "metadata": {},
   "outputs": [
    {
     "name": "stdout",
     "output_type": "stream",
     "text": [
      "Vapor-liquid equilibria model: tensor([28.8241, 30.1302, 30.6279, 30.6336, 30.3132, 29.7235, 28.8288, 27.4982,\n",
      "        25.4819, 22.3634, 17.4732], dtype=torch.float64,\n",
      "       grad_fn=<AddBackward0>)\n"
     ]
    },
    {
     "ename": "AttributeError",
     "evalue": "'NoneType' object has no attribute 'numpy'",
     "output_type": "error",
     "traceback": [
      "\u001b[1;31m---------------------------------------------------------------------------\u001b[0m",
      "\u001b[1;31mAttributeError\u001b[0m                            Traceback (most recent call last)",
      "\u001b[1;32m<ipython-input-57-f7735a64d27e>\u001b[0m in \u001b[0;36m<module>\u001b[1;34m\u001b[0m\n\u001b[0;32m     45\u001b[0m \u001b[1;33m\u001b[0m\u001b[0m\n\u001b[0;32m     46\u001b[0m     \u001b[0mprint\u001b[0m\u001b[1;33m(\u001b[0m\u001b[1;34m\"Vapor-liquid equilibria model:\"\u001b[0m\u001b[1;33m,\u001b[0m\u001b[0mp_model\u001b[0m\u001b[1;33m)\u001b[0m\u001b[1;33m\u001b[0m\u001b[1;33m\u001b[0m\u001b[0m\n\u001b[1;32m---> 47\u001b[1;33m     \u001b[0mprint\u001b[0m\u001b[1;33m(\u001b[0m\u001b[0mA\u001b[0m\u001b[1;33m.\u001b[0m\u001b[0mgrad\u001b[0m\u001b[1;33m.\u001b[0m\u001b[0mnumpy\u001b[0m\u001b[1;33m(\u001b[0m\u001b[1;33m)\u001b[0m\u001b[1;33m)\u001b[0m\u001b[1;33m\u001b[0m\u001b[1;33m\u001b[0m\u001b[0m\n\u001b[0m\u001b[0;32m     48\u001b[0m     \u001b[0mprint\u001b[0m\u001b[1;33m(\u001b[0m\u001b[0mA\u001b[0m\u001b[1;33m.\u001b[0m\u001b[0mdata\u001b[0m\u001b[1;33m.\u001b[0m\u001b[0mnumpy\u001b[0m\u001b[1;33m(\u001b[0m\u001b[1;33m)\u001b[0m\u001b[1;33m)\u001b[0m\u001b[1;33m\u001b[0m\u001b[1;33m\u001b[0m\u001b[0m\n\u001b[0;32m     49\u001b[0m     \u001b[0mprint\u001b[0m\u001b[1;33m(\u001b[0m\u001b[0mloss\u001b[0m\u001b[1;33m.\u001b[0m\u001b[0mdata\u001b[0m\u001b[1;33m.\u001b[0m\u001b[0mnumpy\u001b[0m\u001b[1;33m(\u001b[0m\u001b[1;33m)\u001b[0m\u001b[1;33m)\u001b[0m\u001b[1;33m\u001b[0m\u001b[1;33m\u001b[0m\u001b[0m\n",
      "\u001b[1;31mAttributeError\u001b[0m: 'NoneType' object has no attribute 'numpy'"
     ]
    }
   ],
   "source": [
    "import numpy as np\n",
    "import torch as t\n",
    "from torch.autograd import Variable\n",
    "import matplotlib as plt\n",
    "\n",
    "# Given data for a(1,2,3) for water(H2o) and 1,4 dioxane system(14_ds)\n",
    "\n",
    "T = 20\n",
    "a_H2o = t.tensor([8.07131, 1730.63, 233.426])\n",
    "a_14_ds = t.tensor([7.43155, 1554.679, 240.337])\n",
    "\n",
    "# Calculation of the saturation pressures by using Antoine equation\n",
    "\n",
    "psat_H2o   = 10**(a_H2o[0]-(a_H2o[1]/(T+a_H2o[2])))\n",
    "psat_14_ds = 10**(a_14_ds[0]-(a_14_ds[1]/(T+a_14_ds[2])))\n",
    "psat       = t.tensor([psat_H2o,psat_14_ds],requires_grad=True, dtype =t.float64)\n",
    "\n",
    "\n",
    "# Given measured data for x1,x2 and p\n",
    "x1 = np.asarray(np.arange(0.0,1.1,0.1))\n",
    "x2 = 1-np.asarray(x1)\n",
    "x  = t.tensor([x1,x2], requires_grad=False, dtype =t.float64)\n",
    "p  = t.tensor([28.1, 34.4, 36.7, 36.9, 36.8, 36.7, 36.5, 35.4, 32.9, 27.7, 17.5],requires_grad=True, dtype =t.float64)\n",
    "\n",
    "# Definig model for vapor - liquid equilibria data\n",
    "def model(x,A,psat):\n",
    "    t_A12 = (A[0]*(A[1]*x[1]/(A[0]*x[0]+A[1]*x[1]))**2)\n",
    "    t_A21 = (A[1]*(A[0]*x[0]/(A[0]*x[0]+A[1]*x[1]))**2)\n",
    "    term1 = x[0]*t.exp(t_A12)*psat[0]\n",
    "    term2 = x[1]*t.exp(t_A21)*psat[1]\n",
    "    p_model = term1+term2\n",
    "    return p_model\n",
    "\n",
    "# Defining initial values for variables A1 and A2\n",
    "A = Variable(t.tensor([1.0,1.0],requires_grad=True, dtype =t.float64))\n",
    "\n",
    "# Fix the step size\n",
    "a = 0.001\n",
    "p_model = model(x,A,psat)\n",
    "\n",
    "# Start gradient descent\n",
    "for i in range(1000):  # TODO: change the termination criterion\n",
    "    loss = t.sum((p-p_model[i])**2)\n",
    "    loss.backward()\n",
    "    \n",
    "    print(\"Vapor-liquid equilibria model:\",p_model)\n",
    "    print(A.grad.numpy())\n",
    "    print(A.data.numpy())\n",
    "    print(loss.data.numpy())\n",
    "    # no_grad() specifies that the operations within this context are not part of the computational graph, i.e., we don't need the gradient descent algorithm itself to be differentiable with respect to x\n",
    "    with t.no_grad():\n",
    "        A -= a * A.grad\n",
    "        \n",
    "        # need to clear the gradient at every step, or otherwise it will accumulate...\n",
    "        A.grad.zero_()\n",
    "        \n",
    "\n",
    "\n",
    "\n",
    "             "
   ]
  },
  {
   "cell_type": "code",
   "execution_count": 55,
   "id": "62c88bab",
   "metadata": {},
   "outputs": [
    {
     "name": "stdout",
     "output_type": "stream",
     "text": [
      "tensor([[0.0000, 0.1000, 0.2000, 0.3000, 0.4000, 0.5000, 0.6000, 0.7000, 0.8000,\n",
      "         0.9000, 1.0000],\n",
      "        [1.0000, 0.9000, 0.8000, 0.7000, 0.6000, 0.5000, 0.4000, 0.3000, 0.2000,\n",
      "         0.1000, 0.0000]], dtype=torch.float64)\n",
      "tensor([28.8241, 30.1302, 30.6279, 30.6336, 30.3132, 29.7235, 28.8288, 27.4982,\n",
      "        25.4819, 22.3634, 17.4732], dtype=torch.float64,\n",
      "       grad_fn=<AddBackward0>)\n"
     ]
    },
    {
     "ename": "TypeError",
     "evalue": "unsupported operand type(s) for *: 'float' and 'NoneType'",
     "output_type": "error",
     "traceback": [
      "\u001b[1;31m---------------------------------------------------------------------------\u001b[0m",
      "\u001b[1;31mTypeError\u001b[0m                                 Traceback (most recent call last)",
      "\u001b[1;32m<ipython-input-55-21c29001dc3a>\u001b[0m in \u001b[0;36m<module>\u001b[1;34m\u001b[0m\n\u001b[0;32m     45\u001b[0m \u001b[1;33m\u001b[0m\u001b[0m\n\u001b[0;32m     46\u001b[0m     \u001b[1;32mwith\u001b[0m \u001b[0mt\u001b[0m\u001b[1;33m.\u001b[0m\u001b[0mno_grad\u001b[0m\u001b[1;33m(\u001b[0m\u001b[1;33m)\u001b[0m\u001b[1;33m:\u001b[0m\u001b[1;33m\u001b[0m\u001b[1;33m\u001b[0m\u001b[0m\n\u001b[1;32m---> 47\u001b[1;33m         \u001b[0mA\u001b[0m \u001b[1;33m-=\u001b[0m \u001b[0ma\u001b[0m \u001b[1;33m*\u001b[0m \u001b[0mA\u001b[0m\u001b[1;33m.\u001b[0m\u001b[0mgrad\u001b[0m\u001b[1;33m\u001b[0m\u001b[1;33m\u001b[0m\u001b[0m\n\u001b[0m\u001b[0;32m     48\u001b[0m \u001b[1;33m\u001b[0m\u001b[0m\n\u001b[0;32m     49\u001b[0m         \u001b[1;31m# need to clear the gradient at every step, or otherwise it will accumulate...\u001b[0m\u001b[1;33m\u001b[0m\u001b[1;33m\u001b[0m\u001b[1;33m\u001b[0m\u001b[0m\n",
      "\u001b[1;31mTypeError\u001b[0m: unsupported operand type(s) for *: 'float' and 'NoneType'"
     ]
    }
   ],
   "source": [
    "import numpy as np\n",
    "import torch as t\n",
    "from torch.autograd import Variable\n",
    "#import matplotlib as plt\n",
    "\n",
    "# Given data for a(1,2,3) for water(H2o) and 1,4 dioxane system(14_ds)\n",
    "\n",
    "T = 20\n",
    "a_H2o = t.tensor([8.07131, 1730.63, 233.426])\n",
    "a_14_ds = t.tensor([7.43155, 1554.679, 240.337])\n",
    "\n",
    "# Calculation of the saturation pressures by using Antoine equation\n",
    "\n",
    "psat_H2o   = 10**(a_H2o[0]-(a_H2o[1]/(T+a_H2o[2])))\n",
    "psat_14_ds = 10**(a_14_ds[0]-(a_14_ds[1]/(T+a_14_ds[2])))\n",
    "psat       = t.tensor([psat_H2o,psat_14_ds],requires_grad=True, dtype =t.float64)\n",
    "\n",
    "\n",
    "# Given measured data for x1,x2 and p\n",
    "x1 = np.asarray(np.arange(0.0,1.1,0.1))\n",
    "x2 = 1-np.asarray(x1)\n",
    "x  = t.tensor([x1,x2], requires_grad=False, dtype =t.float64)\n",
    "print(x)\n",
    "p  = t.tensor([28.1, 34.4, 36.7, 36.9, 36.8, 36.7, 36.5, 35.4, 32.9, 27.7, 17.5],requires_grad=True, dtype =t.float64)\n",
    "\n",
    "# Definig model for vapor - liquid equilibria data\n",
    "def model(x,A,psat):\n",
    "    t_A12 = (A[0]*(A[1]*x[1]/(A[0]*x[0]+A[1]*x[1]))**2)\n",
    "    t_A21 = (A[1]*(A[0]*x[0]/(A[0]*x[0]+A[1]*x[1]))**2)\n",
    "    term1 = x[0]*t.exp(t_A12)*psat[0]\n",
    "    term2 = x[1]*t.exp(t_A21)*psat[1]\n",
    "    p_model = term1+term2\n",
    "    return p_model\n",
    "# Defining initial values for variables A1 and A2\n",
    "A = Variable(t.tensor([1.0,1.0],requires_grad=True, dtype =t.float64))\n",
    "\n",
    "# Fix the step size\n",
    "a = 0.001\n",
    "p_model = model(x,A,psat)\n",
    "print(p_model)\n",
    "# Start gradient descent\n",
    "for i in range(1000):  # TODO: change the termination criterion\n",
    "    loss = t.sum((p-p_model)**2)\n",
    "    loss.backward()\n",
    "    \n",
    "    with t.no_grad():\n",
    "        A -= a * A.grad\n",
    "        \n",
    "        # need to clear the gradient at every step, or otherwise it will accumulate...\n",
    "        A.grad.zero_()"
   ]
  },
  {
   "cell_type": "code",
   "execution_count": null,
   "id": "f83d08fe",
   "metadata": {},
   "outputs": [],
   "source": []
  }
 ],
 "metadata": {
  "kernelspec": {
   "display_name": "Python 3",
   "language": "python",
   "name": "python3"
  },
  "language_info": {
   "codemirror_mode": {
    "name": "ipython",
    "version": 3
   },
   "file_extension": ".py",
   "mimetype": "text/x-python",
   "name": "python",
   "nbconvert_exporter": "python",
   "pygments_lexer": "ipython3",
   "version": "3.8.8"
  }
 },
 "nbformat": 4,
 "nbformat_minor": 5
}
